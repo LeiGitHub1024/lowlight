{
 "cells": [
  {
   "cell_type": "code",
   "execution_count": 1,
   "metadata": {},
   "outputs": [],
   "source": [
    "# 图像转png\n",
    "from tqdm import tqdm\n",
    "import os\n",
    "from PIL import Image\n",
    "import cv2\n"
   ]
  },
  {
   "cell_type": "code",
   "execution_count": 3,
   "metadata": {},
   "outputs": [
    {
     "name": "stderr",
     "output_type": "stream",
     "text": [
      "100%|██████████| 93/93 [00:13<00:00,  6.81it/s]\n"
     ]
    }
   ],
   "source": [
    "source_input_path = '/home/mist/low-light/test_datasets/ex3_jpg'\n",
    "for file in tqdm(os.listdir(source_input_path)):\n",
    "    if file=='input' or file=='res':\n",
    "        continue\n",
    "    file_path = os.path.join(source_input_path, file)\n",
    "\n",
    "    im = Image.open(file_path)\n",
    "    \n",
    "    file = file.split('.')[0] + '.png'\n",
    "    im.save(os.path.join('/home/mist/low-light/test_datasets/ex3_png',file))"
   ]
  },
  {
   "cell_type": "code",
   "execution_count": 3,
   "metadata": {},
   "outputs": [
    {
     "name": "stderr",
     "output_type": "stream",
     "text": [
      " 67%|██████▋   | 4/6 [00:00<00:00, 33.00it/s]"
     ]
    },
    {
     "name": "stdout",
     "output_type": "stream",
     "text": [
      "/home/mist/low-light/imageInPaper/source/inputg lol55.png\n",
      "/home/mist/low-light/imageInPaper/source/inputg ex2015_03914.png\n",
      "/home/mist/low-light/imageInPaper/source/inputg mef_office_1.png\n",
      "/home/mist/low-light/imageInPaper/source/inputg lol778.png\n",
      "/home/mist/low-light/imageInPaper/source/inputg mef_office_1_nwdn.png\n"
     ]
    },
    {
     "name": "stderr",
     "output_type": "stream",
     "text": [
      "100%|██████████| 6/6 [00:00<00:00, 20.67it/s]"
     ]
    },
    {
     "name": "stdout",
     "output_type": "stream",
     "text": [
      "/home/mist/low-light/imageInPaper/source/inputg ex2015_06337.png\n"
     ]
    },
    {
     "name": "stderr",
     "output_type": "stream",
     "text": [
      "\n"
     ]
    }
   ],
   "source": [
    "#高斯变换\n",
    "source_input_path = '/home/mist/low-light/test_datasets/ex_jpg'\n",
    "for file in tqdm(os.listdir(source_input_path)):\n",
    "    file_path = os.path.join(source_input_path, file)\n",
    "\n",
    "    im = cv2.imread(file_path)\n",
    "    \n",
    "    im = cv2.GaussianBlur(im,(5,5),0)\n",
    "    cv2.imwrite(os.path.join('/home/mist/low-light/test_datasets/ex_png',file),im)\n",
    "    # im.save()\n"
   ]
  },
  {
   "cell_type": "code",
   "execution_count": null,
   "metadata": {},
   "outputs": [],
   "source": []
  }
 ],
 "metadata": {
  "kernelspec": {
   "display_name": "Python 3",
   "language": "python",
   "name": "python3"
  },
  "orig_nbformat": 4
 },
 "nbformat": 4,
 "nbformat_minor": 2
}

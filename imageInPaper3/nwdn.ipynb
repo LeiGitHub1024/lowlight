{
 "cells": [
  {
   "cell_type": "code",
   "execution_count": 2,
   "metadata": {},
   "outputs": [],
   "source": [
    "from tqdm import tqdm\n",
    "import os\n",
    "from PIL import Image\n",
    "import cv2 \n",
    "import matplotlib.pyplot as plt\n",
    "import numpy as np"
   ]
  },
  {
   "cell_type": "code",
   "execution_count": 5,
   "metadata": {},
   "outputs": [
    {
     "name": "stderr",
     "output_type": "stream",
     "text": [
      "100%|██████████| 16/16 [00:00<00:00, 158.65it/s]\n"
     ]
    },
    {
     "name": "stdout",
     "output_type": "stream",
     "text": [
      "<PIL.Image.Image image mode=RGB size=512x340 at 0x7F521E44E0F0>\n",
      "sgllie 340 512\n",
      "<PIL.Image.Image image mode=RGB size=512x340 at 0x7F521DC11358>\n",
      "dip 340 512\n",
      "<PIL.Image.Image image mode=RGB size=512x340 at 0x7F521DC11320>\n",
      "wformer 340 512\n",
      "<PIL.Image.Image image mode=RGB size=512x340 at 0x7F521DC114E0>\n",
      "lime 340 512\n",
      "<PIL.Image.Image image mode=RGB size=512x340 at 0x7F521DC11470>\n",
      "kind 340 512\n",
      "<PIL.Image.Image image mode=RGB size=512x340 at 0x7F521DC11550>\n",
      "mbllen 340 512\n",
      "<PIL.Image.Image image mode=RGB size=512x340 at 0x7F521DC11630>\n",
      "rrd 340 512\n",
      "<PIL.Image.Image image mode=RGB size=512x340 at 0x7F521DC115F8>\n",
      "retinex 340 512\n",
      "<PIL.Image.Image image mode=RGB size=512x340 at 0x7F521DC117B8>\n",
      "zero 340 512\n",
      "<PIL.Image.Image image mode=RGB size=512x340 at 0x7F521DC11860>\n",
      "input 340 512\n",
      "<PIL.Image.Image image mode=RGB size=512x340 at 0x7F521DC11908>\n",
      "ruas 340 512\n",
      "<PIL.Image.Image image mode=RGB size=512x340 at 0x7F521DC11978>\n",
      "drbn 340 512\n",
      "<PIL.Image.Image image mode=RGB size=512x340 at 0x7F521DC119E8>\n",
      "tbefn 340 512\n",
      "<PIL.Image.Image image mode=RGB size=512x340 at 0x7F521DC11A58>\n",
      "gan 340 512\n",
      "<PIL.Image.Image image mode=RGB size=512x340 at 0x7F521DC11AC8>\n",
      "llve 340 512\n",
      "<PIL.Image.Image image mode=RGB size=512x340 at 0x7F521DC11B38>\n",
      "dslr 340 512\n"
     ]
    }
   ],
   "source": [
    "# 把15张图拼成一张\n",
    "source_input_path = '/home/mist/low-light/imageInPaper/source/res'\n",
    "# name = 'ex2015_03914.png'\n",
    "# shape=(500,374)\n",
    "\n",
    "# name =  'ex2015_06337.png'\n",
    "# shape=(640,426)\n",
    "\n",
    "# name =  'lol55.png'\n",
    "# shape =(600,400)\n",
    "\n",
    "# name =  'lol778.png'\n",
    "# shape =(600,400)\n",
    "\n",
    "name =  'mef_office_1.png'\n",
    "shape=(512,340)\n",
    "i=0\n",
    "position=[[0,0],[640,0],[1280,0],[1920,0],\n",
    "  [0,640],[640,640],[1280,640],[1920,640],\n",
    "  [0,1280],[640,1280],[1280,1280],[1920,1280],\n",
    "  [0,1920],[640,1920],[1280,1920],[1920,1920]]\n",
    "\n",
    "\n",
    "base = cv2.imread('/home/mist/low-light/imageInPaper/source/concat/2560.png')\n",
    "for dirname in tqdm(os.listdir(source_input_path)):\n",
    "  pos = position[i]\n",
    "  i = i + 1\n",
    "  # break\n",
    "  file_path = os.path.join(source_input_path, dirname+'/'+name)\n",
    "  im1 = cv2.imread(file_path)\n",
    "  im= im1.copy() \n",
    "  im[:,:,0] = im1[:,:,2]\n",
    "  im[:,:,1] = im1[:,:,1]\n",
    "  im[:,:,2] = im1[:,:,0]   #cv2读取的是bgr,转换成rgb就要做一下变通\n",
    "\n",
    "  # reshape\n",
    "  im = Image.fromarray(np.uint8(im)).resize(shape)\n",
    "  print(im)\n",
    "  im = np.array(im)\n",
    "  #red\n",
    "  [w,h,c] = im.shape\n",
    "  print(dirname,w,h)\n",
    "  # break\n",
    "  base[pos[0]:pos[0]+w,pos[1]:pos[1]+h] = im\n",
    "\n",
    "\n",
    "  # base = Image.fromarray(np.uint8(base))\n",
    "  # plt.imshow(base) \n",
    "  # break\n",
    "base = Image.fromarray(np.uint8(base))\n",
    "base.save('/home/mist/low-light/imageInPaper/source/concat/'+ name)"
   ]
  },
  {
   "cell_type": "code",
   "execution_count": null,
   "metadata": {},
   "outputs": [],
   "source": [
    "#从图片里面切出来\n",
    "file_list= ['sgllie','dip','wformer','lime','kind','mbllen','rrd','retinex','zero','inputg','ruas','tbefn','gan','llve','dslr']\n",
    "\n",
    "看了下效果，这个处理把人家噪声弄没了，这可不好。"
   ]
  }
 ],
 "metadata": {
  "kernelspec": {
   "display_name": "Python 3",
   "language": "python",
   "name": "python3"
  },
  "orig_nbformat": 4
 },
 "nbformat": 4,
 "nbformat_minor": 2
}

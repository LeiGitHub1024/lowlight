{
 "cells": [
  {
   "cell_type": "markdown",
   "source": [
    "## \n",
    "## \n",
    "## lol 制作test set2\n",
    "\n",
    "## 分割之后作为训练数据\n",
    "\n"
   ],
   "metadata": {}
  },
  {
   "cell_type": "code",
   "execution_count": 13,
   "source": [
    "from tqdm import tqdm\n",
    "import os\n",
    "from skimage.transform import resize\n",
    "from PIL import Image\n",
    "import numpy as np\n",
    "import matplotlib.pyplot as plt\n",
    "import shutil\n",
    "import random\n",
    "source_l = './mit/expertC_gt'\n",
    "source_h = './mit/input'\n",
    "png_l = './mit_png/input'\n",
    "png_h = './mit_png/groundtruth'\n",
    "mit_10_l = './mit_10/input'\n",
    "mit_10_h = './mit_10/groundtruth'\n",
    "mit_40_l = './mit_40/input'\n",
    "mit_40_h = './mit_40/groundtruth'\n",
    "mit_450_l = './mit_450/input'\n",
    "mit_450_h = './mit_450/groundtruth'\n",
    "\n"
   ],
   "outputs": [],
   "metadata": {}
  },
  {
   "cell_type": "code",
   "execution_count": 10,
   "source": [
    "# jpg 转 png\n",
    "# for file in tqdm(os.listdir(source_l)):\n",
    "#   im = Image.open(os.path.join(source_l, file))\n",
    "#   file = file.split('-')[0]+'.png'\n",
    "#   im.save(os.path.join(png_l, file))\n",
    "# for file in tqdm(os.listdir(source_h)):\n",
    "#   im = Image.open(os.path.join(source_h, file))\n",
    "#   file = file.split('-')[0]+'.png'\n",
    "#   im.save(os.path.join(png_h, file))\n"
   ],
   "outputs": [
    {
     "output_type": "stream",
     "name": "stderr",
     "text": [
      "100%|██████████| 500/500 [44:34<00:00,  5.35s/it]\n",
      "100%|██████████| 500/500 [54:08<00:00,  6.50s/it]\n"
     ]
    }
   ],
   "metadata": {}
  },
  {
   "cell_type": "code",
   "execution_count": 18,
   "source": [
    "# 挑选10张作为test，40张作为valid\n",
    "valid = [4501,4540]\n",
    "test = [4555,4563,4568,4617,4628,4766,4785,4978,4984,4993]\n",
    "for name in test:\n",
    "  file = 'a' + str(name) +'.png'\n",
    "  shutil.move(os.path.join(png_l, file),os.path.join(mit_10_l, file))\n",
    "  shutil.move(os.path.join(png_h, file),os.path.join(mit_10_h, file))\n",
    "for name in range(4501,4540):\n",
    "  file = 'a' + str(name) +'.png'\n",
    "  shutil.move(os.path.join(png_l, file),os.path.join(mit_40_l, file))\n",
    "  shutil.move(os.path.join(png_h, file),os.path.join(mit_40_h, file))"
   ],
   "outputs": [],
   "metadata": {}
  },
  {
   "cell_type": "code",
   "execution_count": 41,
   "source": [
    "mit_train_l = '../datasets/mit500/train/input'\n",
    "mit_train_h = '../datasets/mit500/train/groundtruth'\n",
    "mit_valid_l = '../datasets/mit500/valid/input'\n",
    "mit_valid_h = '../datasets/mit500/valid/groundtruth'\n",
    "\n",
    "\n",
    "\n",
    "for file in tqdm(os.listdir(mit_450_l)):\n",
    "  img_l = Image.open(os.path.join(mit_450_l, file))\n",
    "  img_h = Image.open(os.path.join(mit_450_h, file))\n",
    "\n",
    "  w,h = img_l.size\n",
    "\n",
    "  # 256*256小图\n",
    "  im_l = img_l.resize((256,256))\n",
    "  im_h = img_h.resize((256,256))\n",
    "  im_l.save(os.path.join(mit_train_l,file.split('.')[0] + '_0.png'))\n",
    "  im_h.save(os.path.join(mit_train_h,file.split('.')[0] + '_0.png'))\n",
    "\n",
    "  # 长宽除以四，取一半\n",
    "  im_l = img_l.resize((w//4,h//4))\n",
    "  im_h = img_h.resize((w//4,h//4))\n",
    "  w_,h_ = im_l.size\n",
    "  w_num = w_//256\n",
    "  h_num = h_//256\n",
    "  for i in range(w_num):\n",
    "    for j in range(h_num):\n",
    "        rand = random.randint(0,1)\n",
    "        if  rand < 1:\n",
    "          cropped_l = im_l.crop((256*i, 256*j, 256*(i+1), 256*(j+1)))  # (left, upper, right, lower)\n",
    "          cropped_l.save(os.path.join(mit_train_l,file.split('.')[0] + '_' + '4_' +  str(i) + str(j) +  '.png'))\n",
    "          cropped_h = im_h.crop((256*i, 256*j, 256*(i+1), 256*(j+1)))  # (left, upper, right, lower)\n",
    "          cropped_h.save(os.path.join(mit_train_h,file.split('.')[0] + '_' + '4_' +  str(i) + str(j) +  '.png'))\n",
    "\n",
    "  # 长宽除以2，取1/4\n",
    "  im_l = img_l.resize((w//2,h//2))\n",
    "  im_h = img_h.resize((w//2,h//2))\n",
    "  w_,h_ = im_l.size\n",
    "  w_num = w_//256\n",
    "  h_num = h_//256\n",
    "  for i in range(w_num):\n",
    "    for j in range(h_num):\n",
    "        rand = random.randint(0,3)\n",
    "        if  rand < 1:\n",
    "          cropped_l = im_l.crop((256*i, 256*j, 256*(i+1), 256*(j+1)))  # (left, upper, right, lower)\n",
    "          cropped_l.save(os.path.join(mit_train_l,file.split('.')[0] + '_' + '2_' + str(i) + str(j) +  '.png'))\n",
    "          cropped_h = im_h.crop((256*i, 256*j, 256*(i+1), 256*(j+1)))  # (left, upper, right, lower)\n",
    "          cropped_h.save(os.path.join(mit_train_h,file.split('.')[0] + '_' + '2_' + str(i) + str(j) +  '.png'))\n",
    "\n",
    "  #长宽不变，取1/12\n",
    "  im_l = img_l\n",
    "  im_h = img_h\n",
    "  w_,h_ = im_l.size\n",
    "  w_num = w_//256\n",
    "  h_num = h_//256\n",
    "  for i in range(w_num):\n",
    "    for j in range(h_num):\n",
    "        rand = random.randint(0,11)\n",
    "        if  rand < 1:\n",
    "          cropped_l = im_l.crop((256*i, 256*j, 256*(i+1), 256*(j+1)))  # (left, upper, right, lower)\n",
    "          cropped_l.save(os.path.join(mit_train_l,file.split('.')[0] + '_' + '1_' + str(i) + str(j) +  '.png'))\n",
    "          cropped_h = im_h.crop((256*i, 256*j, 256*(i+1), 256*(j+1)))  # (left, upper, right, lower)\n",
    "          cropped_h.save(os.path.join(mit_train_h,file.split('.')[0] + '_' + '1_' + str(i) + str(j) +  '.png'))\n",
    "\n",
    "\n",
    "  \n",
    "  # im.show()\n",
    "  \n",
    "  # im.save(os.path.join(png_l, file))\n"
   ],
   "outputs": [
    {
     "output_type": "stream",
     "name": "stderr",
     "text": [
      "100%|██████████| 451/451 [23:45<00:00,  3.16s/it]\n"
     ]
    }
   ],
   "metadata": {}
  },
  {
   "cell_type": "code",
   "execution_count": 5,
   "source": [
    "mit_test_l = '../datasets/mit500/test/input'\n",
    "mit_test_h = '../datasets/mit500/test/groundtruth'\n",
    "for file in tqdm(os.listdir(mit_10_h)):\n",
    "  img = Image.open(os.path.join(mit_10_h, file))\n",
    "  w,h = img.size\n",
    "  im = img.resize((256,256))\n",
    "  # 长宽减半\n",
    "  im = img.resize((w//6,h//6))\n",
    "  im.save(os.path.join(mit_test_h, file))\n"
   ],
   "outputs": [
    {
     "output_type": "stream",
     "name": "stderr",
     "text": [
      "100%|██████████| 10/10 [00:07<00:00,  1.35it/s]\n"
     ]
    }
   ],
   "metadata": {}
  },
  {
   "cell_type": "code",
   "execution_count": 5,
   "source": [
    "# 把test数据全部resize为256\n",
    "dir = '../datasets/mit500/test_256/input'\n",
    "for file in tqdm(os.listdir(dir)):\n",
    "  img = Image.open(os.path.join(dir, file))\n",
    "  im = img.resize((256,256))\n",
    "  im.save(os.path.join(dir, file))"
   ],
   "outputs": [
    {
     "output_type": "stream",
     "name": "stderr",
     "text": [
      "100%|██████████| 10/10 [00:00<00:00, 20.24it/s]\n"
     "name": "stdout",
     ]
 "metadata": {
  }

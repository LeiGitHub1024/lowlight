{
 "cells": [
  {
   "cell_type": "code",
   "execution_count": null,
   "metadata": {},
   "outputs": [],
   "source": [
    "# 删除训练集里的一些列图片\n",
    "# 训练集搞成256*256的\n",
    "# 从训练集里选12张图，作为 valid\n",
    "# "
   ]
  },
  {
   "cell_type": "code",
   "execution_count": 7,
   "metadata": {},
   "outputs": [],
   "source": [
    "import numpy as np\n",
    "from sklearn.model_selection import train_test_split\n",
    "from skimage.util import random_noise\n",
    "import torch\n",
    "import torch.utils.data as Data \n",
    "from tqdm import tqdm\n",
    "import os\n",
    "import random\n",
    "from PIL import Image\n",
    "import matplotlib.pyplot as plt\n",
    "import shutil\n",
    "\n",
    "import matplotlib.image as mpimg # mpimg 用于读取图片\n"
   ]
  },
  {
   "cell_type": "code",
   "execution_count": null,
   "metadata": {},
   "outputs": [],
   "source": [
    "source_gt_path = './our485/high'\n",
    "source_input_path = './our485/low'\n",
    "\n",
    "save_gt_path = '../datasets/lol/train/groundtruth'\n",
    "save_input_path = '../datasets/lol/train/input'\n",
    "array = ['2','21','24','53','54','56','80','01','82','112','113','114','143','144','145','494','495','546','664','668','747','775','776','777','779']\n",
    "\n",
    "for file in tqdm(os.listdir(source_input_path)):\n",
    "    file_path = os.path.join(source_input_path, file)\n",
    "    if file.split('.')[0] in array:\n",
    "      print(file)\n",
    "      continue\n",
    "    if os.path.isfile(file_path) == True:\n",
    "        im = Image.open(file_path)\n",
    "        im = im.resize((256,256))\n",
    "        im.save(os.path.join(save_input_path,file))"
   ]
  },
  {
   "cell_type": "code",
   "execution_count": 9,
   "metadata": {},
   "outputs": [],
   "source": [
    "array = ['12','33','52','87','88','89','109','160','267','517','586','587']\n",
    "for a in array:\n",
    "  file_path = os.path.join('../datasets/lol/train/input', a+'.png')\n",
    "  des_path  = os.path.join('../datasets/lol/valid/input', a+'.png')\n",
    "  shutil.move(file_path, des_path)\n"
   ]
  }
 ],
 "metadata": {
  "kernelspec": {
   "display_name": "Python 3",
   "language": "python",
   "name": "python3"
  },
  "language_info": {
   "codemirror_mode": {
    "name": "ipython",
    "version": 3
   },
   "file_extension": ".py",
   "mimetype": "text/x-python",
   "name": "python",
   "nbconvert_exporter": "python",
   "pygments_lexer": "ipython3",
   "version": "3.6.9"
  },
  "orig_nbformat": 4
 },
 "nbformat": 4,
 "nbformat_minor": 2
}

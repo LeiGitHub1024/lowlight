{
 "cells": [
  {
   "cell_type": "code",
   "execution_count": 1,
   "source": [
    "from tqdm import tqdm\n",
    "import os\n",
    "from skimage.transform import resize\n",
    "from PIL import Image\n",
    "import numpy as np\n",
    "import matplotlib.pyplot as plt\n",
    "\n",
    "#for valid datasets\n",
    "gt_source = './sid/train/groundtruth'\n",
    "input_source = './sid/train/input'\n",
    "gt_tar = '../datasets/sid/train/groundtruth'\n",
    "input_tar = '../datasets/sid/train/input'"
   ],
   "outputs": [],
   "metadata": {}
  },
  {
   "cell_type": "code",
   "execution_count": 11,
   "source": [
    "#两大家族，改成统一的名字\n",
    "# for file in tqdm(os.listdir(gt_source)):\n",
    "#   dst = file.split('_')[0]+'.png'\n",
    "#   os.rename(os.path.join(gt_source, file),os.path.join(gt_source, dst))\n",
    "# for file in tqdm(os.listdir(input_source)):\n",
    "#   dst = file.split('_')[0]+'.png'\n",
    "#   os.rename(os.path.join(input_source, file),os.path.join(input_source, dst))\n"
   ],
   "outputs": [],
   "metadata": {}
  },
  {
   "cell_type": "code",
   "execution_count": 12,
   "source": [
    "#256*256的缩略图一张\n",
    "for file in os.listdir(gt_source):\n",
    "  im = Image.open(os.path.join(gt_source, file))\n",
    "  im=im.convert('RGB')\n",
    "  im_np = np.array(im)\n",
    "  im_np_resize = resize(im_np, (256, 256))\n",
    "  # plt.imshow(im_np_resize)\n",
    "  im_resize = Image.fromarray((im_np_resize * 255).astype(np.uint8))\n",
    "  im1 = im_resize.save(os.path.join(gt_tar, file))\n",
    "  \n",
    "\n",
    "for file in os.listdir(input_source):\n",
    "  im = Image.open(os.path.join(input_source, file))\n",
    "  im=im.convert('RGB')\n",
    "  im_np = np.array(im)\n",
    "  im_np_resize = resize(im_np, (256, 256))\n",
    "  # plt.imshow(im_np_resize)\n",
    "  im_resize = Image.fromarray((im_np_resize * 255).astype(np.uint8))\n",
    "  im1 = im_resize.save(os.path.join(input_tar, file))  \n",
    "\n",
    "\n"
   ],
   "outputs": [],
   "metadata": {}
  },
  {
   "cell_type": "code",
   "execution_count": 13,
   "source": [
    "#查看长宽是否都是4240*2832\n",
    "#长宽各缩减为一半，每张图分割为40个小块"
   ],
   "outputs": [],
   "metadata": {}
  },
  {
   "cell_type": "code",
   "execution_count": 14,
   "source": [
    "#直接分割为160个小块"
   ],
   "outputs": [],
   "metadata": {}
  },
  {
   "cell_type": "code",
   "execution_count": 2,
   "source": [
    "\n"
   ],
   "outputs": [
    {
     "output_type": "error",
     "ename": "NameError",
     "evalue": "name 'x' is not defined",
     "traceback": [
      "\u001b[0;31m---------------------------------------------------------------------------\u001b[0m",
      "\u001b[0;31mNameError\u001b[0m                                 Traceback (most recent call last)",
      "\u001b[0;32m<ipython-input-2-fc17d851ef81>\u001b[0m in \u001b[0;36m<module>\u001b[0;34m\u001b[0m\n\u001b[0;32m----> 1\u001b[0;31m \u001b[0mprint\u001b[0m\u001b[0;34m(\u001b[0m\u001b[0mx\u001b[0m\u001b[0;34m)\u001b[0m\u001b[0;34m\u001b[0m\u001b[0;34m\u001b[0m\u001b[0m\n\u001b[0m",
      "\u001b[0;31mNameError\u001b[0m: name 'x' is not defined"
     ]
    }
   ],
   "metadata": {}
  }
 ],
 "metadata": {
  "orig_nbformat": 4,
  "kernelspec": {
   "name": "python3",
   "display_name": "Python 3",
   "language": "python"
  },
  "language_info": {
   "name": "python",
   "version": "3.6.9",
   "mimetype": "text/x-python",
   "codemirror_mode": {
    "name": "ipython",
    "version": 3
   },
   "pygments_lexer": "ipython3",
   "nbconvert_exporter": "python",
   "file_extension": ".py"
  }
 },
 "nbformat": 4,
 "nbformat_minor": 2
}
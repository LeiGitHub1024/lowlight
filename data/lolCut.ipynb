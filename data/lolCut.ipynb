{
 "cells": [
  {
   "cell_type": "code",
   "execution_count": 2,
   "metadata": {},
   "outputs": [],
   "source": [
    "import numpy as np\n",
    "from sklearn.model_selection import train_test_split\n",
    "from skimage.util import random_noise\n",
    "import torch\n",
    "import torch.utils.data as Data \n",
    "from tqdm import tqdm\n",
    "import os\n",
    "import random\n",
    "from PIL import Image\n",
    "import matplotlib.pyplot as plt\n",
    "import matplotlib.image as mpimg # mpimg 用于读取图片\n",
    "\n",
    "\n"
   ]
  },
  {
   "cell_type": "code",
   "execution_count": 1,
   "metadata": {},
   "outputs": [],
   "source": [
    "#将噪音图片转换为暗光图片\n",
    "dataPath = '../datasets/denoising/sidd/train/input'\n",
    "savePath = '../datasets/delowlight/sidd/train/input'\n",
    "\n",
    "# for file in tqdm(os.listdir(dataPath)):\n",
    "#       file_path = os.path.join(dataPath, file)\n",
    "#       if os.path.isfile(file_path) == True:\n",
    "#         im = Image.open(file_path)\n",
    "#         im_np = np.array(im)\n",
    "#         #添加gamma\n",
    "#         gamma = random.uniform(1.5,3) #为了快速收敛，先把这个值调的小一点\n",
    "#         gamma_noise_im_np = np.power(im_np/255., gamma)  \n",
    "#         gamma_noise_im_np_uint = (gamma_noise_im_np*255).astype(np.uint8)\n",
    "#         im = Image.fromarray(gamma_noise_im_np_uint)\n",
    "        \n",
    "#         saveFilePath = os.path.join(savePath, file)\n",
    "#         img.save(os.path.join(saveFilePath)\n",
    "      \n",
    "      \n"
   ]
  },
  {
   "cell_type": "code",
   "execution_count": 30,
   "metadata": {},
   "outputs": [],
   "source": [
    "#将loldataset 裁剪为256*256大小\n",
    "source_gt_path = './lol15/high'\n",
    "source_input_path = './lol15/low'\n",
    "\n",
    "save_gt_path = '../datasets/lol/valid/groundtruth'\n",
    "save_input_path = '../datasets/lol/valid/input'\n",
    "\n",
    "\n",
    "# for file in tqdm(os.listdir(source_gt_path)):\n",
    "#       file_path = os.path.join(source_gt_path, file)\n",
    "#       if os.path.isfile(file_path) == True:\n",
    "#         im = Image.open(file_path)\n",
    "#         cropped = im.crop((0, 0, 256, 256))  # (left, upper, right, lower)\n",
    "#         saveFilePath = os.path.join(save_gt_path, file)\n",
    "#         print(cropped,saveFilePath)\n",
    "#         cropped.save(saveFilePath)\n",
    "\n",
    "# for file in tqdm(os.listdir(source_input_path)):\n",
    "#       file_path = os.path.join(source_input_path, file)\n",
    "#       if os.path.isfile(file_path) == True:\n",
    "#         im = Image.open(file_path)\n",
    "#         cropped = im.crop((0, 0, 256, 256))  # (left, upper, right, lower)\n",
    "#         saveFilePath = os.path.join(save_input_path, file)\n",
    "#         print(cropped,saveFilePath)\n",
    "#         cropped.save(saveFilePath) \n",
    "\n"
   ]
  },
  {
   "cell_type": "code",
   "execution_count": 5,
   "metadata": {},
   "outputs": [
    {
     "name": "stderr",
     "output_type": "stream",
     "text": [
      "100%|██████████| 485/485 [01:53<00:00,  4.28it/s]\n",
      "100%|██████████| 485/485 [02:15<00:00,  3.58it/s]\n"
     ]
    }
   ],
   "source": [
    "#lol train 转化为256*256的格式\n",
    "\n",
    "source_gt_path = './lol485/high'\n",
    "source_input_path = './lol485/low'\n",
    "\n",
    "save_gt_path = '../datasets/lol/train/groundtruth'\n",
    "save_input_path = '../datasets/lol/train/input'\n",
    "\n",
    "\n",
    "for file in tqdm(os.listdir(source_gt_path)):\n",
    "      file_path = os.path.join(source_gt_path, file)\n",
    "      if os.path.isfile(file_path) == True:\n",
    "        im = Image.open(file_path)\n",
    "        im = im.resize((256,256))\n",
    "        im.save(os.path.join(save_gt_path,file.split('.')[0] + '_1.png'))\n",
    "        im_90  = im.transpose(Image.ROTATE_90)  # 将图片旋转90度\n",
    "        im_90.save(os.path.join(save_gt_path,file.split('.')[0] + '_2.png'))\n",
    "        im_180 = im.transpose(Image.ROTATE_180)  # 将图片旋转180度\n",
    "        im_180.save(os.path.join(save_gt_path,file.split('.')[0] + '_3.png'))\n",
    "        im_270 = im.transpose(Image.ROTATE_270)  # 将图片旋转270度\n",
    "        im_270.save(os.path.join(save_gt_path,file.split('.')[0] + '_4.png'))\n",
    "\n",
    "        im = Image.open(file_path)\n",
    "        cropped1 = im.crop((0, 0, 256, 256))  # (left, upper, right, lower)\n",
    "        cropped1.save(os.path.join(save_gt_path,file.split('.')[0] + '_5.png'))\n",
    "        cropped2 = im.crop((600-256, 0, 600, 256))  # (left, upper, right, lower)\n",
    "        cropped2.save(os.path.join(save_gt_path,file.split('.')[0] + '_6.png'))\n",
    "        cropped3 = im.crop((0, 400-256, 256, 400))  # (left, upper, right, lower)\n",
    "        cropped3.save(os.path.join(save_gt_path,file.split('.')[0] + '_7.png'))\n",
    "        cropped4 = im.crop((600-256, 400-256, 600, 400))  # (left, upper, right, lower)\n",
    "        cropped4.save(os.path.join(save_gt_path,file.split('.')[0] + '_8.png'))\n",
    "\n",
    "\n",
    "        # cropped1 = im.crop((0, 0, 256, 256))  # (left, upper, right, lower)\n",
    "     \n",
    "for file in tqdm(os.listdir(source_input_path)):\n",
    "      file_path = os.path.join(source_input_path, file)\n",
    "      if os.path.isfile(file_path) == True:\n",
    "        im = Image.open(file_path)\n",
    "        im = im.resize((256,256))\n",
    "        im.save(os.path.join(save_input_path,file.split('.')[0] + '_1.png'))\n",
    "        im_90  = im.transpose(Image.ROTATE_90)  # 将图片旋转90度\n",
    "        im_90.save(os.path.join(save_input_path,file.split('.')[0] + '_2.png'))\n",
    "        im_180 = im.transpose(Image.ROTATE_180)  # 将图片旋转180度\n",
    "        im_180.save(os.path.join(save_input_path,file.split('.')[0] + '_3.png'))\n",
    "        im_270 = im.transpose(Image.ROTATE_270)  # 将图片旋转270度\n",
    "        im_270.save(os.path.join(save_input_path,file.split('.')[0] + '_4.png'))\n",
    "\n",
    "        im = Image.open(file_path)\n",
    "        cropped1 = im.crop((0, 0, 256, 256))  # (left, upper, right, lower)\n",
    "        cropped1.save(os.path.join(save_input_path,file.split('.')[0] + '_5.png'))\n",
    "        cropped2 = im.crop((600-256, 0, 600, 256))  # (left, upper, right, lower)\n",
    "        cropped2.save(os.path.join(save_input_path,file.split('.')[0] + '_6.png'))\n",
    "        cropped3 = im.crop((0, 400-256, 256, 400))  # (left, upper, right, lower)\n",
    "        cropped3.save(os.path.join(save_input_path,file.split('.')[0] + '_7.png'))\n",
    "        cropped4 = im.crop((600-256, 400-256, 600, 400))  # (left, upper, right, lower)\n",
    "        cropped4.save(os.path.join(save_input_path,file.split('.')[0] + '_8.png'))\n",
    "       \n"
   ]
  },
  {
   "cell_type": "code",
   "execution_count": 32,
   "metadata": {},
   "outputs": [],
   "source": [
    "# source_gt_path = '../data/mbllen15000/groundtruth'\n",
    "# source_input_path = '../data/mbllen15000/input'\n",
    "\n",
    "# save_gt_path = '../datasets/delowlight/mbllen/train/groundtruth'\n",
    "# save_input_path = '../datasets/delowlight/mbllen/train/input'\n",
    "\n",
    "# for file in tqdm(os.listdir(source_gt_path)):\n",
    "#   file_path = os.path.join(source_gt_path, file)\n",
    "#   im = Image.open(file_path)  \n",
    "#   file1 = file.split('.')[0] + '.png'\n",
    "#   saveFilePath = os.path.join(save_gt_path, file1)\n",
    "#   im.save(saveFilePath)\n",
    "# for file in tqdm(os.listdir(source_input_path)):\n",
    "#   file_path = os.path.join(source_input_path, file)\n",
    "#   im = Image.open(file_path)  \n",
    "#   file1 = file.split('.')[0] + '.png'\n",
    "#   saveFilePath = os.path.join(save_input_path, file1)\n",
    "#   im.save(saveFilePath)"
   ]
  },
  {
   "cell_type": "code",
   "execution_count": 1,
   "metadata": {},
   "outputs": [
    {
     "ename": "NameError",
     "evalue": "name 'torch' is not defined",
     "output_type": "error",
     "traceback": [
      "\u001b[0;31m---------------------------------------------------------------------------\u001b[0m",
      "\u001b[0;31mNameError\u001b[0m                                 Traceback (most recent call last)",
      "\u001b[0;32m<ipython-input-1-f5c76b5a196b>\u001b[0m in \u001b[0;36m<module>\u001b[0;34m()\u001b[0m\n\u001b[0;32m----> 1\u001b[0;31m \u001b[0mprint\u001b[0m\u001b[0;34m(\u001b[0m\u001b[0mtorch\u001b[0m\u001b[0;34m.\u001b[0m\u001b[0mcuda\u001b[0m\u001b[0;34m.\u001b[0m\u001b[0mdevice_count\u001b[0m\u001b[0;34m(\u001b[0m\u001b[0;34m)\u001b[0m\u001b[0;34m)\u001b[0m\u001b[0;34m\u001b[0m\u001b[0;34m\u001b[0m\u001b[0m\n\u001b[0m\u001b[1;32m      2\u001b[0m \u001b[0mprint\u001b[0m\u001b[0;34m(\u001b[0m\u001b[0mtorch\u001b[0m\u001b[0;34m.\u001b[0m\u001b[0mcuda\u001b[0m\u001b[0;34m.\u001b[0m\u001b[0mis_available\u001b[0m\u001b[0;34m(\u001b[0m\u001b[0;34m)\u001b[0m\u001b[0;34m)\u001b[0m\u001b[0;34m\u001b[0m\u001b[0;34m\u001b[0m\u001b[0m\n",
      "\u001b[0;31mNameError\u001b[0m: name 'torch' is not defined"
     ]
    }
   ],
   "source": [
    "print(torch.cuda.device_count())\n",
    "print(torch.cuda.is_available())\n"
   ]
  }
 ],
 "metadata": {
  "interpreter": {
   "hash": "a08e6890f1e37f6640bcf115006b91805bef7115f2496f3efee946545d5d6ffd"
  },
  "kernelspec": {
   "display_name": "Python 3.6.13 64-bit ('mxy': conda)",
   "name": "python3"
  },
  "language_info": {
   "codemirror_mode": {
    "name": "ipython",
    "version": 3
   },
   "file_extension": ".py",
   "mimetype": "text/x-python",
   "name": "python",
   "nbconvert_exporter": "python",
   "pygments_lexer": "ipython3",
   "version": "3.6.13"
  },
  "orig_nbformat": 4
 },
 "nbformat": 4,
 "nbformat_minor": 2
}

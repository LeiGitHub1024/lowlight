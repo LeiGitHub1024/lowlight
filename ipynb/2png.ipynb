{
 "cells": [
  {
   "cell_type": "code",
   "execution_count": 2,
   "metadata": {},
   "outputs": [],
   "source": [
    "from tqdm import tqdm\n",
    "import os\n",
    "from PIL import Image\n"
   ]
  },
  {
   "cell_type": "code",
   "execution_count": 3,
   "metadata": {},
   "outputs": [
    {
     "name": "stderr",
     "output_type": "stream",
     "text": [
      "100%|██████████| 16/16 [00:12<00:00,  1.31it/s]\n"
     ]
    }
   ],
   "source": [
    "source_input_path = '../datasets/ain1'\n",
    "for file in tqdm(os.listdir(source_input_path)):\n",
    "    file_path = os.path.join(source_input_path, file)\n",
    "    im = Image.open(file_path)\n",
    "    \n",
    "    # file = file.split('.')[0] + '.png'\n",
    "    im.save(os.path.join(source_input_path,file))"
   ]
  }
 ],
 "metadata": {
  "interpreter": {
   "hash": "a08e6890f1e37f6640bcf115006b91805bef7115f2496f3efee946545d5d6ffd"
  },
  "kernelspec": {
   "display_name": "Python 3.6.13 64-bit ('mxy': conda)",
   "name": "python3"
  },
  "language_info": {
   "codemirror_mode": {
    "name": "ipython",
    "version": 3
   },
   "file_extension": ".py",
   "mimetype": "text/x-python",
   "name": "python",
   "nbconvert_exporter": "python",
   "pygments_lexer": "ipython3",
   "version": "3.6.13"
  },
  "orig_nbformat": 4
 },
 "nbformat": 4,
 "nbformat_minor": 2
}

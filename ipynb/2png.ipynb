{
 "cells": [
  {
   "cell_type": "code",
   "execution_count": 9,
   "metadata": {},
   "outputs": [],
   "source": [
    "from tqdm import tqdm\n",
    "import os\n",
    "from PIL import Image\n"
   ]
  },
  {
   "cell_type": "code",
   "execution_count": 24,
   "metadata": {},
   "outputs": [
    {
     "name": "stderr",
     "output_type": "stream",
     "text": [
      "100%|██████████| 25/25 [01:05<00:00,  2.62s/it]\n"
     ]
    }
   ],
   "source": [
    "source_input_path = '../datasets/test/VV'\n",
    "for file in tqdm(os.listdir(source_input_path)):\n",
    "    if file=='input':\n",
    "        continue\n",
    "    file_path = os.path.join(source_input_path, file)\n",
    "\n",
    "    im = Image.open(file_path)\n",
    "    \n",
    "    file = file.split('.')[0] + '.png'\n",
    "    im.save(os.path.join(source_input_path+'/input',file))"
   ]
  }
 ],
 "metadata": {
  "interpreter": {
   "hash": "a08e6890f1e37f6640bcf115006b91805bef7115f2496f3efee946545d5d6ffd"
  },
  "kernelspec": {
   "display_name": "Python 3.6.13 64-bit ('mxy': conda)",
   "name": "python3"
  },
  "language_info": {
   "codemirror_mode": {
    "name": "ipython",
    "version": 3
   },
   "file_extension": ".py",
   "mimetype": "text/x-python",
   "name": "python",
   "nbconvert_exporter": "python",
   "pygments_lexer": "ipython3",
   "version": "3.6.13"
  },
  "orig_nbformat": 4
 },
 "nbformat": 4,
 "nbformat_minor": 2
}

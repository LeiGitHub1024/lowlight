{
 "cells": [
  {
   "cell_type": "code",
   "execution_count": 2,
   "source": [
    "import numpy as np\n",
    "from sklearn.model_selection import train_test_split\n",
    "from skimage.util import random_noise\n",
    "import torch\n",
    "import torch.utils.data as Data \n",
    "from tqdm import tqdm\n",
    "import os\n",
    "import random\n",
    "from PIL import Image\n",
    "import matplotlib.pyplot as plt\n",
    "import matplotlib.image as mpimg # mpimg 用于读取图片\n",
    "\n",
    "\n"
   ],
   "outputs": [],
   "metadata": {}
  },
  {
   "cell_type": "code",
   "execution_count": 62,
   "source": [
    "#将噪音图片转换为暗光图片\n",
    "dataPath = '../datasets/denoising/sidd/train/input'\n",
    "savePath = '../datasets/delowlight/sidd/train/input'\n",
    "\n",
    "# for file in tqdm(os.listdir(dataPath)):\n",
    "#       file_path = os.path.join(dataPath, file)\n",
    "#       if os.path.isfile(file_path) == True:\n",
    "#         im = Image.open(file_path)\n",
    "#         im_np = np.array(im)\n",
    "#         #添加gamma\n",
    "#         gamma = random.uniform(1.5,3) #为了快速收敛，先把这个值调的小一点\n",
    "#         gamma_noise_im_np = np.power(im_np/255., gamma)  \n",
    "#         gamma_noise_im_np_uint = (gamma_noise_im_np*255).astype(np.uint8)\n",
    "#         im = Image.fromarray(gamma_noise_im_np_uint)\n",
    "        \n",
    "#         saveFilePath = os.path.join(savePath, file)\n",
    "#         im.save(saveFilePath)\n",
    "      \n",
    "      \n"
   ],
   "outputs": [],
   "metadata": {}
  },
  {
   "cell_type": "code",
   "execution_count": 63,
   "source": [
    "#将loldataset 裁剪为256*256大小\n",
    "source_gt_path = '../data/lol15/high'\n",
    "source_input_path = '../data/lol15/low'\n",
    "\n",
    "save_gt_path = '../datasets/delowlight/lol/valid/groundtruth'\n",
    "save_input_path = '../datasets/delowlight/lol/valid/input'\n",
    "\n",
    "\n",
    "# for file in tqdm(os.listdir(source_gt_path)):\n",
    "#       file_path = os.path.join(source_gt_path, file)\n",
    "#       if os.path.isfile(file_path) == True:\n",
    "#         im = Image.open(file_path)\n",
    "#         cropped = im.crop((0, 0, 256, 256))  # (left, upper, right, lower)\n",
    "#         saveFilePath = os.path.join(save_gt_path, file)\n",
    "#         print(cropped,saveFilePath)\n",
    "#         cropped.save(saveFilePath)\n",
    "\n",
    "# for file in tqdm(os.listdir(source_input_path)):\n",
    "#       file_path = os.path.join(source_input_path, file)\n",
    "#       if os.path.isfile(file_path) == True:\n",
    "#         im = Image.open(file_path)\n",
    "#         cropped = im.crop((0, 0, 256, 256))  # (left, upper, right, lower)\n",
    "#         saveFilePath = os.path.join(save_input_path, file)\n",
    "#         print(cropped,saveFilePath)\n",
    "#         cropped.save(saveFilePath) \n",
    "\n"
   ],
   "outputs": [],
   "metadata": {}
  },
  {
   "cell_type": "code",
   "execution_count": 64,
   "source": [
    "#lol train 转化为256*256的格式\n",
    "\n",
    "source_gt_path = '../data/lol485/high'\n",
    "source_input_path = '../data/lol485/low'\n",
    "\n",
    "save_gt_path = '../datasets/delowlight/lol/train/groundtruth'\n",
    "save_input_path = '../datasets/delowlight/lol/train/input'\n",
    "\n",
    "\n",
    "for file in tqdm(os.listdir(source_gt_path)):\n",
    "      file_path = os.path.join(source_gt_path, file)\n",
    "      if os.path.isfile(file_path) == True:\n",
    "        im = Image.open(file_path)\n",
    "\n",
    "        cropped1 = im.crop((0, 0, 256, 256))  # (left, upper, right, lower)\n",
    "        file1 = file.split('.')[0] + '_1.png'\n",
    "        saveFilePath = os.path.join(save_gt_path, file1)\n",
    "        cropped1.save(saveFilePath)\n",
    "\n",
    "        cropped2 = im.crop((600-256, 0, 600, 256))  # (left, upper, right, lower)\n",
    "        file2 = file.split('.')[0] + '_2.png'\n",
    "        saveFilePath = os.path.join(save_gt_path, file2)\n",
    "        cropped2.save(saveFilePath)\n",
    "\n",
    "        cropped3 = im.crop((0, 400-256, 256, 400))  # (left, upper, right, lower)\n",
    "        file3 = file.split('.')[0] + '_3.png'\n",
    "        saveFilePath = os.path.join(save_gt_path, file3)\n",
    "        cropped3.save(saveFilePath)\n",
    "\n",
    "        cropped4 = im.crop((600-256, 400-256, 600, 400))  # (left, upper, right, lower)\n",
    "        file4 = file.split('.')[0] + '_4.png'\n",
    "        saveFilePath = os.path.join(save_gt_path, file4)\n",
    "        cropped4.save(saveFilePath)\n",
    "      \n",
    "for file in tqdm(os.listdir(source_input_path)):\n",
    "      file_path = os.path.join(source_input_path, file)\n",
    "      if os.path.isfile(file_path) == True:\n",
    "        im = Image.open(file_path)\n",
    "\n",
    "        cropped1 = im.crop((0, 0, 256, 256))  # (left, upper, right, lower)\n",
    "        file1 = file.split('.')[0] + '_1.png'\n",
    "        saveFilePath = os.path.join(save_input_path, file1)\n",
    "        cropped1.save(saveFilePath)\n",
    "\n",
    "        cropped2 = im.crop((600-256, 0, 600, 256))  # (left, upper, right, lower)\n",
    "        file2 = file.split('.')[0] + '_2.png'\n",
    "        saveFilePath = os.path.join(save_input_path, file2)\n",
    "        cropped2.save(saveFilePath)\n",
    "\n",
    "        cropped3 = im.crop((0, 400-256, 256, 400))  # (left, upper, right, lower)\n",
    "        file3 = file.split('.')[0] + '_3.png'\n",
    "        saveFilePath = os.path.join(save_input_path, file3)\n",
    "        cropped3.save(saveFilePath)\n",
    "\n",
    "        cropped4 = im.crop((600-256, 400-256, 600, 400))  # (left, upper, right, lower)\n",
    "        file4 = file.split('.')[0] + '_4.png'\n",
    "        saveFilePath = os.path.join(save_input_path, file4)\n",
    "        cropped4.save(saveFilePath)\n"
   ],
   "outputs": [
    {
     "output_type": "stream",
     "name": "stderr",
     "text": [
      "100%|██████████| 485/485 [01:08<00:00,  7.07it/s]\n"
     ]
    }
   ],
   "metadata": {}
  },
  {
   "cell_type": "code",
   "execution_count": 7,
   "source": [
    "source_gt_path = '../data/mbllen15000/groundtruth'\n",
    "source_input_path = '../data/mbllen15000/input'\n",
    "\n",
    "save_gt_path = '../datasets/delowlight/mbllen/train/groundtruth'\n",
    "save_input_path = '../datasets/delowlight/mbllen/train/input'\n",
    "\n",
    "for file in tqdm(os.listdir(source_gt_path)):\n",
    "  file_path = os.path.join(source_gt_path, file)\n",
    "  im = Image.open(file_path)  \n",
    "  file1 = file.split('.')[0] + '.png'\n",
    "  saveFilePath = os.path.join(save_gt_path, file1)\n",
    "  im.save(saveFilePath)\n",
    "for file in tqdm(os.listdir(source_input_path)):\n",
    "  file_path = os.path.join(source_input_path, file)\n",
    "  im = Image.open(file_path)  \n",
    "  file1 = file.split('.')[0] + '.png'\n",
    "  saveFilePath = os.path.join(save_input_path, file1)\n",
    "  im.save(saveFilePath)"
   ],
   "outputs": [
    {
     "output_type": "stream",
     "name": "stderr",
     "text": [
      "100%|██████████| 16910/16910 [06:00<00:00, 46.90it/s]\n",
      "100%|██████████| 16910/16910 [06:00<00:00, 46.89it/s]\n"
     ]
    }
   ],
   "metadata": {}
  }
 ],
 "metadata": {
  "orig_nbformat": 4,
  "language_info": {
   "name": "python",
   "version": "3.7.11",
   "mimetype": "text/x-python",
   "codemirror_mode": {
    "name": "ipython",
    "version": 3
   },
   "pygments_lexer": "ipython3",
   "nbconvert_exporter": "python",
   "file_extension": ".py"
  },
  "kernelspec": {
   "name": "python3",
   "display_name": "Python 3.7.11 64-bit ('lxj': conda)"
  },
  "interpreter": {
   "hash": "e970e3a089ccae2cd07fccc4512d6742f9f9435469c2a9fbd55abc6113d61ae6"
  }
 },
 "nbformat": 4,
 "nbformat_minor": 2
}
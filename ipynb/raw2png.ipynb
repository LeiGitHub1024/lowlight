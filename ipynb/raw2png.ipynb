{
 "cells": [
  {
   "cell_type": "code",
   "execution_count": 3,
   "source": [
    "# import rawpy\n",
    "# import imageio\n",
    " \n",
    "# path = './test/00001_00_10s.ARW'\n",
    "# #path = 'image.raw'\n",
    "# with rawpy.imread(path) as raw:\n",
    "#     rgb = raw.postprocess()\n",
    "# imageio.imsave('10.png', rgb)\n",
    "\n",
    "\n"
   ],
   "outputs": [],
   "metadata": {}
  }
 ],
 "metadata": {
  "orig_nbformat": 4,
  "kernelspec": {
   "name": "python3",
   "display_name": "Python 3",
   "language": "python"
  }
 },
 "nbformat": 4,
 "nbformat_minor": 2
}
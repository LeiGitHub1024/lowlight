{
 "cells": [
  {
   "cell_type": "code",
   "execution_count": 1,
   "metadata": {},
   "outputs": [],
   "source": [
    "# import rawpy\n",
    "# import imageio\n",
    " \n",
    "# path = './test/00001_00_10s.ARW'\n",
    "# #path = 'image.raw'\n",
    "# with rawpy.imread(path) as raw:\n",
    "#     rgb = raw.postprocess()\n",
    "# imageio.imsave('10.png', rgb)\n",
    "\n",
    "\n"
   ]
  }
 ],
 "metadata": {
  "kernelspec": {
   "display_name": "Python 3",
   "language": "python",
   "name": "python3"
  },
  "orig_nbformat": 4
 },
 "nbformat": 4,
 "nbformat_minor": 2
}

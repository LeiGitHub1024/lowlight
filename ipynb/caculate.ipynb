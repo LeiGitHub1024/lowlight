{
 "cells": [
  {
   "cell_type": "code",
   "execution_count": 43,
   "source": [
    "import math\n",
    "a=[100,200,210]\n",
    "b=[120,210,220]\n",
    "cos = (a[0]*b[0] + a[1]*b[1] + a[2]*b[2])/( (a[0]**2 + a[1]**2 + a[2]**2)**0.5  * (b[0]**2 + b[1]**2 + b[2]**2)**0.5 )\n",
    "\n",
    "print(cos)\n",
    "print(math.acos(cos))\n",
    "print(math.acos(cos)*180/3.1415926535)"
   ],
   "outputs": [
    {
     "output_type": "stream",
     "name": "stdout",
     "text": [
      "0.9990427148296736\n",
      "0.04375929482544897\n",
      "2.50722290803855\n"
     ]
    }
   ],
   "metadata": {}
  },
  {
   "cell_type": "code",
   "execution_count": 44,
   "source": [
    "import math\n",
    "r = 0.3\n",
    "g = 0.59\n",
    "b = 0.11\n",
    "a=[100*r,200*g,210*b]\n",
    "b=[120*r,210*g,220*b]\n",
    "cos = (a[0]*b[0] + a[1]*b[1] + a[2]*b[2])/( (a[0]**2 + a[1]**2 + a[2]**2)**0.5  * (b[0]**2 + b[1]**2 + b[2]**2)**0.5 )\n",
    "\n",
    "print(cos)\n",
    "print(math.acos(cos))\n",
    "print(math.acos(cos)*180/3.1415926535)"
   ],
   "outputs": [
    {
     "output_type": "stream",
     "name": "stdout",
     "text": [
      "0.9994460046585973\n",
      "0.033288030905031005\n",
      "1.90726367921384\n"
     ]
    }
   ],
   "metadata": {}
  },
  {
   "cell_type": "code",
   "execution_count": 42,
   "source": [
    "# 引入numpy模块并创建两个向量x和y\n",
    "import numpy as np\n",
    "x=np.array((5,5,5))\n",
    "y=np.array([5,5,5])\n",
    "\n",
    "# 分别计算两个向量的模：\n",
    "l_x=np.sqrt(x.dot(x))\n",
    "l_y=np.sqrt(y.dot(y))\n",
    "print('向量的模=',l_x,l_y)\n",
    "\n",
    "# 计算两个向量的点积\n",
    "dian=x.dot(y)\n",
    "print('向量的点积=',dian)\n",
    "\n",
    "# 计算夹角的cos值：\n",
    "cos_=dian/(l_x*l_y)\n",
    "print('夹角的cos值=',cos_)\n",
    "\n",
    "# 求得夹角（弧度制）：\n",
    "angle_hu=np.arccos(cos_)\n",
    "print('夹角（弧度制）=',angle_hu)\n",
    "\n",
    "# 转换为角度值：\n",
    "angle_d=angle_hu*180/np.pi\n",
    "print('夹角=%f°'%angle_d)\n"
   ],
   "outputs": [
    {
     "output_type": "stream",
     "name": "stdout",
     "text": [
      "向量的模= 8.660254037844387 8.660254037844387\n",
      "向量的点积= 75\n",
      "夹角的cos值= 0.9999999999999998\n",
      "夹角（弧度制）= 2.1073424255447017e-08\n",
      "夹角=0.000001°\n"
     ]
    }
   ],
   "metadata": {}
  }
 ],
 "metadata": {
  "orig_nbformat": 4,
  "kernelspec": {
   "name": "python3",
   "display_name": "Python 3",
   "language": "python"
  },
  "language_info": {
   "name": "python",
   "version": "3.6.9",
   "mimetype": "text/x-python",
   "codemirror_mode": {
    "name": "ipython",
    "version": 3
   },
   "pygments_lexer": "ipython3",
   "nbconvert_exporter": "python",
   "file_extension": ".py"
  }
 },
 "nbformat": 4,
 "nbformat_minor": 2
}
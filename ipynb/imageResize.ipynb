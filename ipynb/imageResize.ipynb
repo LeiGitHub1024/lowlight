{
 "cells": [
  {
   "cell_type": "code",
   "execution_count": 24,
   "metadata": {},
   "outputs": [
    {
     "name": "stdout",
     "output_type": "stream",
     "text": [
      "1\n"
     ]
    }
   ],
   "source": [
    "from skimage.transform import resize\n",
    "from PIL import Image\n",
    "import numpy as np\n",
    "import matplotlib.pyplot as plt\n",
    "\n",
    "print(1)"
   ]
  },
  {
   "cell_type": "code",
   "execution_count": 25,
   "metadata": {},
   "outputs": [
    {
     "name": "stdout",
     "output_type": "stream",
     "text": [
      "[[[ 20  20  20]\n",
      "  [ 20  19  11]\n",
      "  [ 17  15   2]\n",
      "  ...\n",
      "  [ 15  15  15]\n",
      "  [ 16  16  16]\n",
      "  [ 15  15  15]]\n",
      "\n",
      " [[ 15  23  16]\n",
      "  [ 19  19  19]\n",
      "  [ 20  19  10]\n",
      "  ...\n",
      "  [ 17  15   2]\n",
      "  [ 17  15   2]\n",
      "  [ 10  10  10]]\n",
      "\n",
      " [[ 17  15   2]\n",
      "  [ 18  16   3]\n",
      "  [ 17  15   2]\n",
      "  ...\n",
      "  [ 15  15  15]\n",
      "  [ 15  15  15]\n",
      "  [ 14  23  15]]\n",
      "\n",
      " ...\n",
      "\n",
      " [[169 139  95]\n",
      "  [148 120  81]\n",
      "  [150 124  79]\n",
      "  ...\n",
      "  [219 191 122]\n",
      "  [219 192 123]\n",
      "  [219 192 123]]\n",
      "\n",
      " [[153 121  77]\n",
      "  [143 117  68]\n",
      "  [163 138  84]\n",
      "  ...\n",
      "  [214 186 114]\n",
      "  [214 186 111]\n",
      "  [212 184 106]]\n",
      "\n",
      " [[147 121  70]\n",
      "  [170 143  86]\n",
      "  [177 150  97]\n",
      "  ...\n",
      "  [221 193 119]\n",
      "  [220 192 107]\n",
      "  [199 173  90]]]\n"
     ]
    }
   ],
   "source": [
    "im = Image.open('./test/xx.png')\n",
    "im_np = np.array(im)\n",
    "print(im_np)\n",
    "\n",
    "im = Image.fromarray(im_np)\n",
    "im.show()\n",
    "im_np_resize = resize(im_np, (140, 54))\n",
    "print(im_np_resize)\n",
    "plt.imshow(im_np_resize)\n"
   ]
  }
 ],
 "metadata": {
  "kernelspec": {
   "display_name": "Python 3",
   "language": "python",
   "name": "python3"
  },
  "orig_nbformat": 4
 },
 "nbformat": 4,
 "nbformat_minor": 2
}

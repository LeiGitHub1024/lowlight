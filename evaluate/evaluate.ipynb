{
 "cells": [
  {
   "cell_type": "code",
   "execution_count": 53,
   "source": [
    "     \n",
    "    #lol-485    # mbllen   ruas-upe   ruas-lol  ruas-dark\n",
    "   \n",
    "    # [ ] Psnr    17.21    10.69      14.17     14.06\n",
    "    # [ ] Ssim    0.76     0.45       0.60      0.56\n",
    "    # [ ] Vif\n",
    "    # [ ] Loe\n",
    "    # [ ] Tqmi\n",
    "    # [ ] Ab"
   ],
   "outputs": [],
   "metadata": {}
  },
  {
   "cell_type": "code",
   "execution_count": 66,
   "source": [
    "from skimage.metrics import peak_signal_noise_ratio as psnr\n",
    "from skimage.metrics import structural_similarity as ssim\n",
    "import numpy as np\n",
    "import matplotlib.image as mpimg # mpimg 用于读取图片\n",
    "from skimage.metrics import peak_signal_noise_ratio\n",
    "from tqdm import tqdm\n",
    "import os\n",
    "\n",
    "#在loldataset上计算平均psnr\n",
    "gtDir = '../data/lol485/high'\n",
    "outDir = './output/ruas-dark'\n",
    "gtList = os.listdir(gtDir)\n",
    "outputList = os.listdir(outDir)\n",
    "PSNR_enhance = []\n",
    "ssim_enhance = []\n",
    "for imgName in tqdm(gtList):\n",
    "    im1 = mpimg.imread(os.path.join(gtDir,imgName)) # \n",
    "    im2 = mpimg.imread(os.path.join(outDir,imgName))\n",
    "    PSNR_enhance.append(psnr(im1, im2))\n",
    "    ssim_enhance.append(ssim(im1,im2,multichannel=True))\n",
    "    # print(\"原始的PSNR:\", peak_signal_noise_ratio(low, high))\n",
    "    # print(\"暗光增强后的PSNR:\", peak_signal_noise_ratio(im_enhance, high))\n",
    "print(\"平均PSNR\",np.mean(PSNR_enhance))\n",
    "print(\"平均SSIM\",np.mean(ssim_enhance))\n",
    "\n"
   ],
   "outputs": [
    {
     "output_type": "stream",
     "name": "stderr",
     "text": [
      "100%|██████████| 485/485 [00:45<00:00, 10.78it/s]"
     ]
    },
    {
     "output_type": "stream",
     "name": "stdout",
     "text": [
      "平均PSNR 14.063447971054698\n",
      "平均SSIM 0.562541785557638\n"
     ]
    },
    {
     "output_type": "stream",
     "name": "stderr",
     "text": [
      "\n"
     ]
    }
   ],
   "metadata": {}
  }
 ],
 "metadata": {
  "orig_nbformat": 4,
  "language_info": {
   "name": "python",
   "version": "3.7.11",
   "mimetype": "text/x-python",
   "codemirror_mode": {
    "name": "ipython",
    "version": 3
   },
   "pygments_lexer": "ipython3",
   "nbconvert_exporter": "python",
   "file_extension": ".py"
  },
  "kernelspec": {
   "name": "python3",
   "display_name": "Python 3.7.11 64-bit ('lxj': conda)"
  },
  "interpreter": {
   "hash": "e970e3a089ccae2cd07fccc4512d6742f9f9435469c2a9fbd55abc6113d61ae6"
  }
 },
 "nbformat": 4,
 "nbformat_minor": 2
}